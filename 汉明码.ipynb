{
  "nbformat": 4,
  "nbformat_minor": 0,
  "metadata": {
    "colab": {
      "name": "汉明码.ipynb",
      "provenance": [],
      "collapsed_sections": [],
      "authorship_tag": "ABX9TyOtmMLhwZwPIx1ER9ZVRjRz",
      "include_colab_link": true
    },
    "kernelspec": {
      "name": "python3",
      "display_name": "Python 3"
    },
    "language_info": {
      "name": "python"
    }
  },
  "cells": [
    {
      "cell_type": "markdown",
      "metadata": {
        "id": "view-in-github",
        "colab_type": "text"
      },
      "source": [
        "<a href=\"https://colab.research.google.com/github/Orooz/orooz.github.io/blob/master/%E6%B1%89%E6%98%8E%E7%A0%81.ipynb\" target=\"_parent\"><img src=\"https://colab.research.google.com/assets/colab-badge.svg\" alt=\"Open In Colab\"/></a>"
      ]
    },
    {
      "cell_type": "code",
      "metadata": {
        "colab": {
          "base_uri": "https://localhost:8080/"
        },
        "id": "9jedpfiKJqut",
        "outputId": "1d7151e9-8279-49a8-cf63-12523a59c46c"
      },
      "source": [
        ""
      ],
      "execution_count": 102,
      "outputs": [
        {
          "output_type": "stream",
          "text": [
            "11011010101111010101\n"
          ],
          "name": "stdout"
        }
      ]
    },
    {
      "cell_type": "code",
      "metadata": {
        "colab": {
          "base_uri": "https://localhost:8080/"
        },
        "id": "Xe-fsYk5KOrU",
        "outputId": "753ed3de-c9ef-4d16-c5a7-1e6105dcb494"
      },
      "source": [
        "#计算汉明码\n",
        "import math\n",
        "bin=input()\n",
        "sbin=str(bin)\n",
        "l=len(sbin)\n",
        "k=1\n",
        "while(k>0):\n",
        "  if(k>math.log(l+k+1,2)):\n",
        "    break;    \n",
        "  else:\n",
        "    k=k+1\n",
        "print(\"K=\",k)\n",
        "\n",
        "ham=[]\n",
        "kcode=[]\n",
        "nk=0;\n",
        "rk=list(range(k+1))\n",
        "indexk=0;\n",
        "for i in rk:\n",
        "  rk[i]=pow(2,i)\n",
        "for i in range(l+k):\n",
        "  if(rk[indexk]==(i+1)):\n",
        "    ham.append(0)\n",
        "    indexk=indexk+1\n",
        "  else:\n",
        "    ham.append(sbin[nk])\n",
        "    nk=nk+1 \n",
        "for i in range(k):\n",
        "  result=0\n",
        "  wahr=True\n",
        "  magic=rk[i]-1\n",
        "  for j in range(len(ham)):\n",
        "    if ((j+1)<rk[i]):\n",
        "      pass\n",
        "    else:\n",
        "      if (magic==0 and wahr==True):\n",
        "        magic=rk[i]-1\n",
        "        wahr=False\n",
        "        if ((j+1)==rk[i]):\n",
        "          pass\n",
        "        else:\n",
        "          result=result+int(ham[j])\n",
        "      elif (magic!=0 and wahr==True):\n",
        "        magic=magic-1\n",
        "        if ((j+1)==rk[i]):\n",
        "          pass\n",
        "        else:\n",
        "          result=result+int(ham[j])\n",
        "      elif (magic==0 and wahr==False):\n",
        "        magic=rk[i]-1\n",
        "        wahr=True       \n",
        "      elif (magic!=0 and wahr==False):\n",
        "        magic=magic-1\n",
        "  kcode.append(result%2)\n",
        "  ham[rk[i]-1]=str(result%2)\n",
        "print(ham)\n",
        "print(kcode)\n",
        "final=''.join(ham)\n",
        "print(\"答案:\",final)"
      ],
      "execution_count": 1,
      "outputs": [
        {
          "output_type": "stream",
          "text": [
            "10011101010111001001\n",
            "K= 5\n",
            "['0', '1', '1', '0', '0', '0', '1', '1', '1', '1', '0', '1', '0', '1', '0', '1', '1', '1', '1', '0', '0', '1', '0', '0', '1']\n",
            "[0, 1, 0, 1, 1]\n",
            "答案: 0110001111010101111001001\n"
          ],
          "name": "stdout"
        }
      ]
    },
    {
      "cell_type": "code",
      "metadata": {
        "colab": {
          "base_uri": "https://localhost:8080/"
        },
        "id": "bQtF2TDB0IRs",
        "outputId": "3d22aab8-8971-4932-b3c9-70cf623dad76"
      },
      "source": [
        "# 校验汉明码\n",
        "import math\n",
        "hamm=input()\n",
        "hams=str(hamm)\n",
        "kk=int(math.log(len(hamm)+1,2))+1\n",
        "rkk=list(range(kk+1))\n",
        "indexkk=0;\n",
        "resa=0;\n",
        "for i in rkk:\n",
        "  rkk[i]=pow(2,i)\n",
        "for i in range(kk):\n",
        "  result=0\n",
        "  wahr=True\n",
        "  magic=rkk[i]-1\n",
        "  for j in range(len(hams)):\n",
        "    if ((j+1)<rkk[i]):\n",
        "      pass\n",
        "    else:\n",
        "      if (magic==0 and wahr==True):\n",
        "        magic=rkk[i]-1\n",
        "        wahr=False\n",
        "        if ((j+1)==rkk[i]):\n",
        "          pass\n",
        "        else:\n",
        "          result=result+int(hams[j])\n",
        "      elif (magic!=0 and wahr==True):\n",
        "        magic=magic-1\n",
        "        if ((j+1)==rkk[i]):\n",
        "          pass\n",
        "        else:\n",
        "          result=result+int(hams[j])\n",
        "      elif (magic==0 and wahr==False):\n",
        "        magic=rkk[i]-1\n",
        "        wahr=True       \n",
        "      elif (magic!=0 and wahr==False):\n",
        "        magic=magic-1\n",
        "  if hams[rkk[i]-1]==str(result%2):\n",
        "    print(rkk[i],\"正确\")\n",
        "  else:\n",
        "    print(rkk[i],\"错误\")\n",
        "    resa=resa+rkk[i]\n",
        "print(\"答案\",resa)"
      ],
      "execution_count": 117,
      "outputs": [
        {
          "output_type": "stream",
          "text": [
            "100010010010110011011\n",
            "1 正确\n",
            "2 错误\n",
            "4 错误\n",
            "8 正确\n",
            "16 正确\n",
            "答案 6\n"
          ],
          "name": "stdout"
        }
      ]
    }
  ]
}